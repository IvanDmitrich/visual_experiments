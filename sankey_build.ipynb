{
 "cells": [
  {
   "cell_type": "code",
   "execution_count": 41,
   "metadata": {},
   "outputs": [],
   "source": [
    "import pandas as pd\n",
    "import json\n",
    "import typing as tp\n",
    "\n",
    "from plotly import graph_objects as go\n",
    "\n",
    "# pip install Pillow\n",
    "from PIL import ImageColor"
   ]
  },
  {
   "cell_type": "code",
   "execution_count": 42,
   "metadata": {},
   "outputs": [
    {
     "data": {
      "text/plain": [
       "(0, 0, 170)"
      ]
     },
     "execution_count": 42,
     "metadata": {},
     "output_type": "execute_result"
    }
   ],
   "source": [
    "ImageColor.getcolor('#0000aa', \"RGB\")"
   ]
  },
  {
   "cell_type": "code",
   "execution_count": 43,
   "metadata": {},
   "outputs": [
    {
     "data": {
      "text/plain": [
       "[{'log_datetime': 1672531200000,\n",
       "  'object_id': 'worker_1',\n",
       "  'event_id': 1,\n",
       "  'event_value': 100},\n",
       " {'log_datetime': 1672617600000,\n",
       "  'object_id': 'worker_1',\n",
       "  'event_id': 1,\n",
       "  'event_value': 100}]"
      ]
     },
     "execution_count": 43,
     "metadata": {},
     "output_type": "execute_result"
    }
   ],
   "source": [
    "raw_data = pd.read_excel('/home/ivan/projects/visual_experiments/data_sankey.xlsx')\n",
    "raw_data = raw_data.to_json(indent=4, orient='records', force_ascii=False)\n",
    "raw_data = json.loads(raw_data)\n",
    "raw_data[:2]"
   ]
  },
  {
   "cell_type": "code",
   "execution_count": 44,
   "metadata": {},
   "outputs": [
    {
     "data": {
      "text/plain": [
       "[{'event_id': 1,\n",
       "  'event_value_condition': 100,\n",
       "  'node_name': 'зачислен на обучение'},\n",
       " {'event_id': 2,\n",
       "  'event_value_condition': 100,\n",
       "  'node_name': 'закончил изучать теорию'},\n",
       " {'event_id': 3,\n",
       "  'event_value_condition': 100,\n",
       "  'node_name': 'закончил практику'},\n",
       " {'event_id': 4,\n",
       "  'event_value_condition': 100,\n",
       "  'node_name': 'сдал пробный экзамен'},\n",
       " {'event_id': 5,\n",
       "  'event_value_condition': '>= 80',\n",
       "  'node_name': 'сдал итоговый экзамен'},\n",
       " {'event_id': 5,\n",
       "  'event_value_condition': '< 80',\n",
       "  'node_name': 'завалил итоговый экзамен'}]"
      ]
     },
     "execution_count": 44,
     "metadata": {},
     "output_type": "execute_result"
    }
   ],
   "source": [
    "cond_data = pd.read_excel('/home/ivan/projects/visual_experiments/data_sankey_cond.xlsx', )\n",
    "cond_data = cond_data.to_json(indent=4, orient='records', force_ascii=False)\n",
    "cond_data = json.loads(cond_data)\n",
    "cond_data"
   ]
  },
  {
   "cell_type": "code",
   "execution_count": 134,
   "metadata": {},
   "outputs": [],
   "source": [
    "def prepare_data(raw_data, cond_data):\n",
    "    '''\n",
    "    raw_data = json[\n",
    "        {\n",
    "            log_datetime: datetime,\n",
    "            object_id: str | int,\n",
    "            event_id: str | int,\n",
    "            event_value: int\n",
    "        }, ...\n",
    "    ]\n",
    "    \n",
    "    cond_data = json[\n",
    "        {\n",
    "            event_id: str | int,\n",
    "            event_value_condition: str | int,\n",
    "            node_name: str\n",
    "        }, ...\n",
    "    ]\n",
    "\n",
    "    output = json[\n",
    "        {\n",
    "            object_id: str | int,\n",
    "            step: int,\n",
    "            source_node_name: str,\n",
    "            target_node_name: str\n",
    "        }, ...\n",
    "    ]\n",
    "    '''\n",
    "    def _node_name_definition(raw_data_row):\n",
    "        event_id_absence = True\n",
    "        for cond in cond_data:\n",
    "            if raw_data_row.iloc[2] == cond['event_id']:\n",
    "                event_id_absence = False\n",
    "                try:\n",
    "                    comparison, value = cond['event_value_condition'].split(' ')\n",
    "                    value = int(value)\n",
    "                except (ValueError, AttributeError):\n",
    "                    comparison = '='\n",
    "                    value = int(cond['event_value_condition'])\n",
    "                if comparison == '=' and raw_data_row.iloc[3] == value:\n",
    "                    return cond['node_name']\n",
    "                elif comparison == '>' and raw_data_row.iloc[3] > value:\n",
    "                    return cond['node_name']\n",
    "                elif comparison == '<' and raw_data_row.iloc[3] < value:\n",
    "                    return cond['node_name']\n",
    "                elif comparison == '>=' and raw_data_row.iloc[3] >= value:\n",
    "                    return cond['node_name']\n",
    "                elif comparison == '<=' and raw_data_row.iloc[3] <= value:\n",
    "                    return cond['node_name']\n",
    "                else:\n",
    "                    continue\n",
    "            else:\n",
    "                continue\n",
    "        if event_id_absence:\n",
    "            return 'undefined due to event_id absence'\n",
    "        else:\n",
    "            return 'undefined due to event_condition_value absence'\n",
    "\n",
    "\n",
    "    def _drop_duplicates(raw_data_df):\n",
    "        raw_data_df = raw_data_df.sort_values(by=['object_id','log_datetime', 'node_name']).reset_index(drop=True)\n",
    "        indexes_to_delete = []\n",
    "        for i in range(1, len(raw_data_df)):\n",
    "            if raw_data_df.iloc[i]['object_id'] == raw_data_df.iloc[i-1]['object_id']\\\n",
    "                and raw_data_df.iloc[i]['node_name'] == raw_data_df.iloc[i-1]['node_name']:\n",
    "                indexes_to_delete.append(i)\n",
    "        raw_data_df = raw_data_df.drop(index=indexes_to_delete)\n",
    "        return raw_data_df\n",
    "\n",
    "\n",
    "    def _source_target_definition(raw_data_df):\n",
    "        prepared_data = raw_data_df.sort_values(by=['object_id','log_datetime', 'node_name']).reset_index(drop=True)\n",
    "        prepared_data['step'] = prepared_data.groupby(['object_id']).cumcount() + 1\n",
    "        prepared_data['source_node_name'] = prepared_data['node_name']\n",
    "        prepared_data['target_node_name'] = prepared_data.groupby(['object_id'])['source_node_name'].shift(-1)\n",
    "        prepared_data = prepared_data\\\n",
    "            .query('target_node_name.isna() == False')[['object_id', 'step', 'source_node_name', 'target_node_name']]\n",
    "        return prepared_data\n",
    "    \n",
    "    raw_data_df = pd.json_normalize(raw_data)\n",
    "    raw_data_df['node_name'] = raw_data_df.apply(_node_name_definition, axis=1)\n",
    "    raw_data_df = _drop_duplicates(raw_data_df)\n",
    "    prepared_data = _source_target_definition(raw_data_df)\n",
    "\n",
    "    return prepared_data.to_json(indent=4, orient='records', force_ascii=False)\n",
    "    "
   ]
  },
  {
   "cell_type": "code",
   "execution_count": 200,
   "metadata": {},
   "outputs": [
    {
     "data": {
      "text/html": [
       "<div>\n",
       "<style scoped>\n",
       "    .dataframe tbody tr th:only-of-type {\n",
       "        vertical-align: middle;\n",
       "    }\n",
       "\n",
       "    .dataframe tbody tr th {\n",
       "        vertical-align: top;\n",
       "    }\n",
       "\n",
       "    .dataframe thead th {\n",
       "        text-align: right;\n",
       "    }\n",
       "</style>\n",
       "<table border=\"1\" class=\"dataframe\">\n",
       "  <thead>\n",
       "    <tr style=\"text-align: right;\">\n",
       "      <th></th>\n",
       "      <th>object_id</th>\n",
       "      <th>step</th>\n",
       "      <th>source_node_name</th>\n",
       "      <th>target_node_name</th>\n",
       "    </tr>\n",
       "  </thead>\n",
       "  <tbody>\n",
       "    <tr>\n",
       "      <th>0</th>\n",
       "      <td>worker_1</td>\n",
       "      <td>1</td>\n",
       "      <td>зачислен на обучение</td>\n",
       "      <td>закончил изучать теорию</td>\n",
       "    </tr>\n",
       "    <tr>\n",
       "      <th>1</th>\n",
       "      <td>worker_1</td>\n",
       "      <td>2</td>\n",
       "      <td>закончил изучать теорию</td>\n",
       "      <td>закончил практику</td>\n",
       "    </tr>\n",
       "    <tr>\n",
       "      <th>2</th>\n",
       "      <td>worker_1</td>\n",
       "      <td>3</td>\n",
       "      <td>закончил практику</td>\n",
       "      <td>сдал пробный экзамен</td>\n",
       "    </tr>\n",
       "    <tr>\n",
       "      <th>3</th>\n",
       "      <td>worker_1</td>\n",
       "      <td>4</td>\n",
       "      <td>сдал пробный экзамен</td>\n",
       "      <td>сдал итоговый экзамен</td>\n",
       "    </tr>\n",
       "    <tr>\n",
       "      <th>4</th>\n",
       "      <td>worker_10</td>\n",
       "      <td>1</td>\n",
       "      <td>зачислен на обучение</td>\n",
       "      <td>закончил изучать теорию</td>\n",
       "    </tr>\n",
       "  </tbody>\n",
       "</table>\n",
       "</div>"
      ],
      "text/plain": [
       "   object_id  step         source_node_name         target_node_name\n",
       "0   worker_1     1     зачислен на обучение  закончил изучать теорию\n",
       "1   worker_1     2  закончил изучать теорию        закончил практику\n",
       "2   worker_1     3        закончил практику     сдал пробный экзамен\n",
       "3   worker_1     4     сдал пробный экзамен    сдал итоговый экзамен\n",
       "4  worker_10     1     зачислен на обучение  закончил изучать теорию"
      ]
     },
     "execution_count": 200,
     "metadata": {},
     "output_type": "execute_result"
    }
   ],
   "source": [
    "raw_data_json = json.loads(prepare_data(raw_data, cond_data))\n",
    "\n",
    "raw_data_json= pd.json_normalize(raw_data_json)\n",
    "raw_data_json = raw_data_json#.query('object_id == \"worker_9\"')\n",
    "raw_data_json.head()"
   ]
  },
  {
   "cell_type": "code",
   "execution_count": null,
   "metadata": {},
   "outputs": [],
   "source": [
    "def construct_sankey_skeleton(prepared_data):\n",
    "    '''\n",
    "    prepared_data: json = output from func prepare_data\n",
    "\n",
    "    output: json = {\n",
    "        \"data\":{\\n\n",
    "            \"orientation\": \"h\" | \"v\",\\n\n",
    "            \"valueformat\": \".0f\" | str,\\n\n",
    "            \"valuesuffix\": str,\\n\n",
    "            \"node\": {\n",
    "                \"pad\": int,\n",
    "                \"thickness\": int,\n",
    "                \"line\": {\n",
    "                    \"color\": str,\n",
    "                    \"width\": float\n",
    "                    },\n",
    "                \"label\": [str, ...],\n",
    "                \"color\": [\"rgba(0-255, 0-255, 0-255, 0.0 - 1.0)\", ...]\n",
    "                },\\n\n",
    "            \"link\": {\n",
    "                \"source\": [int, ...],\n",
    "                \"target\": [int, ...],\n",
    "                \"value\": [float | int],\n",
    "                \"color\": [\"rgba(0-255, 0-255, 0-255, 0.0 - 1.0)\", ...],\n",
    "                \"label\": [optional[str], ...]\n",
    "                }\n",
    "            },\\n\n",
    "        \"layout\": {\n",
    "            \"title\": {\"text\": str},\n",
    "            \"width\": int,\n",
    "            \"height\": int,\n",
    "            \"font\": {\"size\": int}\n",
    "            }\n",
    "        }\n",
    "    '''"
   ]
  },
  {
   "cell_type": "code",
   "execution_count": 201,
   "metadata": {},
   "outputs": [],
   "source": [
    "label = []\n",
    "source = []\n",
    "target = []\n",
    "value = []\n",
    "\n",
    "\n",
    "object_id_prev = None\n",
    "for i in range(len(raw_data_json)):\n",
    "    object_id = raw_data_json.iloc[i]['object_id']\n",
    "    source = raw_data_json.iloc[i]['source_node_name']\n",
    "    target = raw_data_json.iloc[i]['target_node_name']\n",
    "    \n",
    "    if object_id_prev != object_id:\n",
    "        label_trimmed = label\n",
    "        object_id_prev = object_id\n",
    "    \n",
    "    \n",
    "\n",
    "    if source not in(label_trimmed):\n",
    "        label = [source] + label\n",
    "    if target not in(label_trimmed):\n",
    "        label = label + [target]\n",
    "        label_trimmed = label_trimmed + [target]\n",
    "\n",
    "    left_trim = label_trimmed.index(target)\n",
    "    label_trimmed = label_trimmed[left_trim:]\n",
    "\n",
    "    # print(source, '|', target)\n",
    "    # print(label_trimmed)\n",
    "    # print('------------------')\n",
    "    \n",
    "\n"
   ]
  },
  {
   "cell_type": "code",
   "execution_count": 202,
   "metadata": {},
   "outputs": [
    {
     "data": {
      "text/plain": [
       "['зачислен на обучение',\n",
       " 'закончил изучать теорию',\n",
       " 'закончил практику',\n",
       " 'сдал пробный экзамен',\n",
       " 'сдал итоговый экзамен',\n",
       " 'завалил итоговый экзамен',\n",
       " 'закончил изучать теорию',\n",
       " 'закончил практику',\n",
       " 'сдал итоговый экзамен']"
      ]
     },
     "execution_count": 202,
     "metadata": {},
     "output_type": "execute_result"
    }
   ],
   "source": [
    "label"
   ]
  },
  {
   "cell_type": "code",
   "execution_count": 179,
   "metadata": {},
   "outputs": [],
   "source": [
    "a = [1, 2, 3, 4, 5, 6]\n",
    "b = a\n",
    "a = a + [7]\n",
    "b = b + [7]\n",
    "\n",
    "b = b[3:]"
   ]
  },
  {
   "cell_type": "code",
   "execution_count": 180,
   "metadata": {},
   "outputs": [
    {
     "data": {
      "text/plain": [
       "[1, 2, 3, 4, 5, 6, 7]"
      ]
     },
     "execution_count": 180,
     "metadata": {},
     "output_type": "execute_result"
    }
   ],
   "source": [
    "a"
   ]
  },
  {
   "cell_type": "code",
   "execution_count": 181,
   "metadata": {},
   "outputs": [
    {
     "data": {
      "text/plain": [
       "[4, 5, 6, 7]"
      ]
     },
     "execution_count": 181,
     "metadata": {},
     "output_type": "execute_result"
    }
   ],
   "source": [
    "b"
   ]
  },
  {
   "cell_type": "code",
   "execution_count": 182,
   "metadata": {},
   "outputs": [],
   "source": [
    "b = a"
   ]
  },
  {
   "cell_type": "code",
   "execution_count": 183,
   "metadata": {},
   "outputs": [
    {
     "data": {
      "text/plain": [
       "[1, 2, 3, 4, 5, 6, 7]"
      ]
     },
     "execution_count": 183,
     "metadata": {},
     "output_type": "execute_result"
    }
   ],
   "source": [
    "b"
   ]
  }
 ],
 "metadata": {
  "kernelspec": {
   "display_name": "venv",
   "language": "python",
   "name": "python3"
  },
  "language_info": {
   "codemirror_mode": {
    "name": "ipython",
    "version": 3
   },
   "file_extension": ".py",
   "mimetype": "text/x-python",
   "name": "python",
   "nbconvert_exporter": "python",
   "pygments_lexer": "ipython3",
   "version": "3.10.12"
  },
  "orig_nbformat": 4
 },
 "nbformat": 4,
 "nbformat_minor": 2
}

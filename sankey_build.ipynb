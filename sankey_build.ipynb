{
 "cells": [
  {
   "cell_type": "code",
   "execution_count": 103,
   "metadata": {},
   "outputs": [],
   "source": [
    "import pandas as pd\n",
    "import json\n",
    "import typing as tp\n",
    "\n",
    "from plotly import graph_objects as go\n",
    "\n",
    "# pip install Pillow\n",
    "from PIL.ImageColor import getcolor"
   ]
  },
  {
   "cell_type": "code",
   "execution_count": 119,
   "metadata": {},
   "outputs": [],
   "source": [
    "def get_colors(fp, line_start, a_node, a_link, link_color_shift, color_step, cut):\n",
    "    colors = []\n",
    "    with open(fp, mode='r') as file:\n",
    "        for line in file:\n",
    "            colors.append('#' + line.strip())\n",
    "    colors_node = []\n",
    "    colors_link = []\n",
    "    for i in range(line_start, len(colors)-cut, color_step):\n",
    "\n",
    "        try:\n",
    "            r, g, b = getcolor(colors[i+link_color_shift], \"RGB\")\n",
    "            colors_link.append('rgba({r},{g},{b}, {a_link})'.format(r=r, g=g, b=b, a_link=a_link))\n",
    "\n",
    "            r, g, b = getcolor(colors[i], \"RGB\")\n",
    "            colors_node.append('rgba({r},{g},{b}, {a_node})'.format(r=r, g=g, b=b, a_node=a_node))  \n",
    "        except IndexError:\n",
    "            continue\n",
    "\n",
    "    return colors_node, colors_link"
   ]
  },
  {
   "cell_type": "code",
   "execution_count": 105,
   "metadata": {},
   "outputs": [],
   "source": [
    "def prepare_data(raw_data, cond_data):\n",
    "    '''\n",
    "    raw_data = json[\n",
    "        {\n",
    "            log_datetime: datetime,\n",
    "            object_id: str | int,\n",
    "            event_id: str | int,\n",
    "            event_value: int\n",
    "        }, ...\n",
    "    ]\n",
    "    \n",
    "    cond_data = json[\n",
    "        {\n",
    "            event_id: str | int,\n",
    "            event_value_condition: str | int,\n",
    "            node_name: str\n",
    "        }, ...\n",
    "    ]\n",
    "\n",
    "    output = json[\n",
    "        {\n",
    "            object_id: str | int,\n",
    "            step: int,\n",
    "            source_node_name: str,\n",
    "            target_node_name: str\n",
    "        }, ...\n",
    "    ]\n",
    "    '''\n",
    "    def _node_name_definition(raw_data_row):\n",
    "        event_id_absence = True\n",
    "        for cond in cond_data:\n",
    "            if raw_data_row.iloc[2] == cond['event_id']:\n",
    "                event_id_absence = False\n",
    "                try:\n",
    "                    comparison, value = cond['event_value_condition'].split(' ')\n",
    "                    value = int(value)\n",
    "                except (ValueError, AttributeError):\n",
    "                    comparison = '='\n",
    "                    value = int(cond['event_value_condition'])\n",
    "                if comparison == '=' and raw_data_row.iloc[3] == value:\n",
    "                    return cond['node_name']\n",
    "                elif comparison == '>' and raw_data_row.iloc[3] > value:\n",
    "                    return cond['node_name']\n",
    "                elif comparison == '<' and raw_data_row.iloc[3] < value:\n",
    "                    return cond['node_name']\n",
    "                elif comparison == '>=' and raw_data_row.iloc[3] >= value:\n",
    "                    return cond['node_name']\n",
    "                elif comparison == '<=' and raw_data_row.iloc[3] <= value:\n",
    "                    return cond['node_name']\n",
    "                else:\n",
    "                    continue\n",
    "            else:\n",
    "                continue\n",
    "        if event_id_absence:\n",
    "            return 'undefined due to event_id absence'\n",
    "        else:\n",
    "            return 'undefined due to event_condition_value absence'\n",
    "\n",
    "\n",
    "    def _drop_duplicates(raw_data_df):\n",
    "        raw_data_df = raw_data_df.sort_values(by=['object_id','log_datetime', 'node_name']).reset_index(drop=True)\n",
    "        indexes_to_delete = []\n",
    "        for i in range(1, len(raw_data_df)):\n",
    "            if raw_data_df.iloc[i]['object_id'] == raw_data_df.iloc[i-1]['object_id']\\\n",
    "                and raw_data_df.iloc[i]['node_name'] == raw_data_df.iloc[i-1]['node_name']:\n",
    "                indexes_to_delete.append(i)\n",
    "        raw_data_df = raw_data_df.drop(index=indexes_to_delete)\n",
    "        return raw_data_df\n",
    "\n",
    "\n",
    "    def _source_target_definition(raw_data_df):\n",
    "        prepared_data = raw_data_df.sort_values(by=['object_id','log_datetime', 'node_name']).reset_index(drop=True)\n",
    "        prepared_data['step'] = prepared_data.groupby(['object_id']).cumcount() + 1\n",
    "        prepared_data['source_node_name'] = prepared_data['node_name']\n",
    "        prepared_data['target_node_name'] = prepared_data.groupby(['object_id'])['source_node_name'].shift(-1)\n",
    "        prepared_data = prepared_data\\\n",
    "            .query('target_node_name.isna() == False')[['object_id', 'step', 'source_node_name', 'target_node_name']]\n",
    "        return prepared_data\n",
    "    \n",
    "    raw_data_df = pd.json_normalize(raw_data)\n",
    "    raw_data_df['node_name'] = raw_data_df.apply(_node_name_definition, axis=1)\n",
    "    raw_data_df = _drop_duplicates(raw_data_df)\n",
    "    prepared_data = _source_target_definition(raw_data_df)\n",
    "\n",
    "    return prepared_data.to_json(indent=4, orient='records', force_ascii=False)\n",
    "    "
   ]
  },
  {
   "cell_type": "code",
   "execution_count": 106,
   "metadata": {},
   "outputs": [],
   "source": [
    "def construct_sankey_data(prepared_data, \n",
    "                          node_color,\n",
    "                          node_pad,\n",
    "                          node_thickness,\n",
    "                          node_line_color,\n",
    "                          node_line_width,\n",
    "                          link_color, \n",
    "                          title, \n",
    "                          title_width, \n",
    "                          title_height, \n",
    "                          title_font_size,\n",
    "                          orientation,\n",
    "                          valueformat,\n",
    "                          valuesuffix\n",
    "                          ):\n",
    "    '''\n",
    "    prepared_data: json = output from func prepare_data\n",
    "\n",
    "    output: json = {\n",
    "        \"data\":{\\n\n",
    "            \"orientation\": \"h\" | \"v\",\\n\n",
    "            \"valueformat\": \".0f\" | str,\\n\n",
    "            \"valuesuffix\": str,\\n\n",
    "            \"node\": {\n",
    "                \"pad\": int,\n",
    "                \"thickness\": int,\n",
    "                \"line\": {\n",
    "                    \"color\": str,\n",
    "                    \"width\": float\n",
    "                    },\n",
    "                \"label\": [str, ...],\n",
    "                \"color\": [\"rgba(0-255, 0-255, 0-255, 0.0 - 1.0)\", ...]\n",
    "                },\\n\n",
    "            \"link\": {\n",
    "                \"source\": [int, ...],\n",
    "                \"target\": [int, ...],\n",
    "                \"value\": [float | int],\n",
    "                \"color\": [\"rgba(0-255, 0-255, 0-255, 0.0 - 1.0)\", ...],\n",
    "                \"label\": [optional[str], ...]\n",
    "                }\n",
    "            },\\n\n",
    "        \"layout\": {\n",
    "            \"title\": {\"text\": str},\n",
    "            \"width\": int,\n",
    "            \"height\": int,\n",
    "            \"font\": {\"size\": int}\n",
    "            }\n",
    "        }\n",
    "    '''\n",
    "    prepared_data_df = pd.json_normalize(prepared_data)\n",
    "\n",
    "    def _prepare_lstv(prepared_data_df):\n",
    "        label = []\n",
    "        source = []\n",
    "        target = []\n",
    "        value = []\n",
    "\n",
    "        # label\n",
    "        object_id_prev = None\n",
    "        for i in range(len(prepared_data_df)):\n",
    "            object_id = prepared_data_df.iloc[i]['object_id']\n",
    "            source_elem = prepared_data_df.iloc[i]['source_node_name']\n",
    "            target_elem = prepared_data_df.iloc[i]['target_node_name']\n",
    "            if object_id_prev != object_id:\n",
    "                label_trimmed = label\n",
    "                object_id_prev = object_id\n",
    "            if source_elem not in(label_trimmed):\n",
    "                label = [source_elem] + label\n",
    "            if target_elem not in(label_trimmed):\n",
    "                label = label + [target_elem]\n",
    "                label_trimmed = label_trimmed + [target_elem]\n",
    "            left_trim = label_trimmed.index(target_elem)\n",
    "            label_trimmed = label_trimmed[left_trim:]\n",
    "\n",
    "        # source, target, value\n",
    "        object_id_prev = None\n",
    "        result_dict = {}\n",
    "        for i in range(len(prepared_data_df)):\n",
    "            object_id = prepared_data_df.iloc[i]['object_id']\n",
    "            source_elem = prepared_data_df.iloc[i]['source_node_name']\n",
    "            target_elem = prepared_data_df.iloc[i]['target_node_name']\n",
    "            if object_id_prev != object_id:\n",
    "                position = 0\n",
    "                object_id_prev = object_id\n",
    "            source_indx = position + label[position:].index(source_elem)\n",
    "            target_indx = source_indx + 1 + label[source_indx + 1:].index(target_elem)\n",
    "            position = target_indx\n",
    "            result_dict.setdefault((source_indx, target_indx), 0)\n",
    "            result_dict[(source_indx, target_indx)] += 1\n",
    "\n",
    "        for (source_elem, target_elem), value_elem in result_dict.items():\n",
    "            source.append(source_elem)\n",
    "            target.append(target_elem)\n",
    "            value.append(value_elem)\n",
    "        \n",
    "        return label, source, target, value\n",
    "    \n",
    "\n",
    "    def _set_colors(node_color, link_color, label, source):\n",
    "        labels_cnt = len(label)\n",
    "        node_color_multiply = (round(labels_cnt/len(node_color)) + 1) * node_color\n",
    "        link_color_multiply = (round(labels_cnt/len(link_color)) + 1) * link_color\n",
    "\n",
    "        label_sorted_set = []\n",
    "        for x in label:\n",
    "            if x not in label_sorted_set:\n",
    "                label_sorted_set.append(x)\n",
    "            else:\n",
    "                continue\n",
    "        node_color_dict = {x: y for x, y in zip(label_sorted_set, node_color_multiply)}\n",
    "        node_color_label = [node_color_dict[x] for x in label]\n",
    "\n",
    "        link_color_dict = {x: y for x, y in zip(label_sorted_set, link_color_multiply)}\n",
    "        link_color_label = [link_color_dict[x] for x in label]\n",
    "\n",
    "        link_index_color_dict = {x: y for x, y in zip(list(range(len(label))), link_color_label)}\n",
    "        link_color_source = [link_index_color_dict[x] for x in source]\n",
    "\n",
    "        return node_color_label, link_color_source\n",
    "\n",
    "\n",
    "    label, source, target, value = _prepare_lstv(prepared_data_df)\n",
    "    node_color_label, link_color_source = _set_colors(node_color, link_color, label, source)\n",
    "\n",
    "    output = {\n",
    "        \"data\": {\n",
    "            \"orientation\": orientation,\n",
    "            \"valueformat\": valueformat,\n",
    "            \"valuesuffix\": valuesuffix,\n",
    "            \"node\": {\n",
    "                \"pad\": node_pad,\n",
    "                \"thickness\": node_thickness,\n",
    "                \"line\": {\"color\": node_line_color, \"width\": node_line_width},\n",
    "                \"label\": label,\n",
    "                \"color\": node_color_label\n",
    "                },\n",
    "            \"link\": {\n",
    "                \"source\": source,\n",
    "                \"target\": target,\n",
    "                \"value\": value,\n",
    "                \"color\": link_color_source,\n",
    "                \"label\": []\n",
    "                }\n",
    "            },\n",
    "        \"layout\": {\n",
    "            \"title\": {\"text\": title},\n",
    "            \"width\": title_width,\n",
    "            \"height\": title_height,\n",
    "            \"font\": {\"size\": title_font_size}\n",
    "            }\n",
    "        }\n",
    "    \n",
    "    return output\n"
   ]
  },
  {
   "cell_type": "code",
   "execution_count": 107,
   "metadata": {},
   "outputs": [],
   "source": [
    "def sankey_fig(sankey_data):\n",
    "    fig = go.Figure(\n",
    "        data=[go.Sankey(\n",
    "            valueformat = sankey_data['data']['valueformat'],\n",
    "            valuesuffix = sankey_data['data']['valuesuffix'],\n",
    "            domain = {\"x\": [0,1],\"y\": [0,1]},\n",
    "            arrangement ='freeform',\n",
    "            orientation = sankey_data['data']['orientation'],\n",
    "            node = {**sankey_data['data']['node'],\n",
    "                    'hoverlabel': {'align': 'left', 'bgcolor': 'lightgreen', 'bordercolor': 'white',\n",
    "                                   # 'namelength': 4\n",
    "                                   },\n",
    "                    # 'hovertemplate': '%{label}<extra>%{value}</extra>'\n",
    "                    },\n",
    "            link = {**sankey_data['data']['link'],\n",
    "                    'arrowlen': 10,\n",
    "                    'hoverlabel': {'bgcolor': 'lightgreen', 'bordercolor': 'black', 'align': 'left',\n",
    "                                   # 'namelength': 4\n",
    "                                   },\n",
    "                    # 'hovertemplate': 'sa<extra>%{value}</extra>'\n",
    "                    },\n",
    "            textfont = {'color': 'black'}\n",
    "        )]\n",
    "    )\n",
    "    fig.update_layout(title_text=sankey_data['layout']['title']['text'],\n",
    "                      font_size=sankey_data['layout']['font']['size'])\n",
    "    return fig"
   ]
  },
  {
   "cell_type": "code",
   "execution_count": 137,
   "metadata": {},
   "outputs": [
    {
     "data": {
      "application/vnd.plotly.v1+json": {
       "config": {
        "plotlyServerURL": "https://plot.ly"
       },
       "data": [
        {
         "arrangement": "freeform",
         "domain": {
          "x": [
           0,
           1
          ],
          "y": [
           0,
           1
          ]
         },
         "link": {
          "arrowlen": 10,
          "color": [
           "rgba(130,139,152, 0.3)",
           "rgba(187,175,164, 0.3)",
           "rgba(173,110,81, 0.3)",
           "rgba(0,111,137, 0.3)",
           "rgba(0,111,137, 0.3)",
           "rgba(134,144,178, 0.3)",
           "rgba(187,175,164, 0.3)",
           "rgba(173,110,81, 0.3)"
          ],
          "hoverlabel": {
           "align": "left",
           "bgcolor": "lightgreen",
           "bordercolor": "black"
          },
          "label": [],
          "source": [
           0,
           1,
           2,
           3,
           3,
           5,
           6,
           7
          ],
          "target": [
           1,
           2,
           3,
           4,
           5,
           6,
           7,
           8
          ],
          "value": [
           10,
           10,
           10,
           4,
           6,
           3,
           3,
           3
          ]
         },
         "node": {
          "color": [
           "rgba(98,104,113, 1)",
           "rgba(174,161,137, 1)",
           "rgba(154,98,76, 1)",
           "rgba(11,102,127, 1)",
           "rgba(205,94,70, 1)",
           "rgba(122,119,153, 1)",
           "rgba(174,161,137, 1)",
           "rgba(154,98,76, 1)",
           "rgba(205,94,70, 1)"
          ],
          "hoverlabel": {
           "align": "left",
           "bgcolor": "lightgreen",
           "bordercolor": "white"
          },
          "label": [
           "зачислен на обучение",
           "закончил изучать теорию",
           "закончил практику",
           "сдал пробный экзамен",
           "сдал итоговый экзамен",
           "завалил итоговый экзамен",
           "закончил изучать теорию",
           "закончил практику",
           "сдал итоговый экзамен"
          ],
          "line": {
           "color": "black",
           "width": 0.5
          },
          "pad": 50,
          "thickness": 20
         },
         "orientation": "h",
         "textfont": {
          "color": "black"
         },
         "type": "sankey",
         "valueformat": "int",
         "valuesuffix": "чел"
        }
       ],
       "layout": {
        "font": {
         "size": 10
        },
        "template": {
         "data": {
          "bar": [
           {
            "error_x": {
             "color": "#2a3f5f"
            },
            "error_y": {
             "color": "#2a3f5f"
            },
            "marker": {
             "line": {
              "color": "#E5ECF6",
              "width": 0.5
             },
             "pattern": {
              "fillmode": "overlay",
              "size": 10,
              "solidity": 0.2
             }
            },
            "type": "bar"
           }
          ],
          "barpolar": [
           {
            "marker": {
             "line": {
              "color": "#E5ECF6",
              "width": 0.5
             },
             "pattern": {
              "fillmode": "overlay",
              "size": 10,
              "solidity": 0.2
             }
            },
            "type": "barpolar"
           }
          ],
          "carpet": [
           {
            "aaxis": {
             "endlinecolor": "#2a3f5f",
             "gridcolor": "white",
             "linecolor": "white",
             "minorgridcolor": "white",
             "startlinecolor": "#2a3f5f"
            },
            "baxis": {
             "endlinecolor": "#2a3f5f",
             "gridcolor": "white",
             "linecolor": "white",
             "minorgridcolor": "white",
             "startlinecolor": "#2a3f5f"
            },
            "type": "carpet"
           }
          ],
          "choropleth": [
           {
            "colorbar": {
             "outlinewidth": 0,
             "ticks": ""
            },
            "type": "choropleth"
           }
          ],
          "contour": [
           {
            "colorbar": {
             "outlinewidth": 0,
             "ticks": ""
            },
            "colorscale": [
             [
              0,
              "#0d0887"
             ],
             [
              0.1111111111111111,
              "#46039f"
             ],
             [
              0.2222222222222222,
              "#7201a8"
             ],
             [
              0.3333333333333333,
              "#9c179e"
             ],
             [
              0.4444444444444444,
              "#bd3786"
             ],
             [
              0.5555555555555556,
              "#d8576b"
             ],
             [
              0.6666666666666666,
              "#ed7953"
             ],
             [
              0.7777777777777778,
              "#fb9f3a"
             ],
             [
              0.8888888888888888,
              "#fdca26"
             ],
             [
              1,
              "#f0f921"
             ]
            ],
            "type": "contour"
           }
          ],
          "contourcarpet": [
           {
            "colorbar": {
             "outlinewidth": 0,
             "ticks": ""
            },
            "type": "contourcarpet"
           }
          ],
          "heatmap": [
           {
            "colorbar": {
             "outlinewidth": 0,
             "ticks": ""
            },
            "colorscale": [
             [
              0,
              "#0d0887"
             ],
             [
              0.1111111111111111,
              "#46039f"
             ],
             [
              0.2222222222222222,
              "#7201a8"
             ],
             [
              0.3333333333333333,
              "#9c179e"
             ],
             [
              0.4444444444444444,
              "#bd3786"
             ],
             [
              0.5555555555555556,
              "#d8576b"
             ],
             [
              0.6666666666666666,
              "#ed7953"
             ],
             [
              0.7777777777777778,
              "#fb9f3a"
             ],
             [
              0.8888888888888888,
              "#fdca26"
             ],
             [
              1,
              "#f0f921"
             ]
            ],
            "type": "heatmap"
           }
          ],
          "heatmapgl": [
           {
            "colorbar": {
             "outlinewidth": 0,
             "ticks": ""
            },
            "colorscale": [
             [
              0,
              "#0d0887"
             ],
             [
              0.1111111111111111,
              "#46039f"
             ],
             [
              0.2222222222222222,
              "#7201a8"
             ],
             [
              0.3333333333333333,
              "#9c179e"
             ],
             [
              0.4444444444444444,
              "#bd3786"
             ],
             [
              0.5555555555555556,
              "#d8576b"
             ],
             [
              0.6666666666666666,
              "#ed7953"
             ],
             [
              0.7777777777777778,
              "#fb9f3a"
             ],
             [
              0.8888888888888888,
              "#fdca26"
             ],
             [
              1,
              "#f0f921"
             ]
            ],
            "type": "heatmapgl"
           }
          ],
          "histogram": [
           {
            "marker": {
             "pattern": {
              "fillmode": "overlay",
              "size": 10,
              "solidity": 0.2
             }
            },
            "type": "histogram"
           }
          ],
          "histogram2d": [
           {
            "colorbar": {
             "outlinewidth": 0,
             "ticks": ""
            },
            "colorscale": [
             [
              0,
              "#0d0887"
             ],
             [
              0.1111111111111111,
              "#46039f"
             ],
             [
              0.2222222222222222,
              "#7201a8"
             ],
             [
              0.3333333333333333,
              "#9c179e"
             ],
             [
              0.4444444444444444,
              "#bd3786"
             ],
             [
              0.5555555555555556,
              "#d8576b"
             ],
             [
              0.6666666666666666,
              "#ed7953"
             ],
             [
              0.7777777777777778,
              "#fb9f3a"
             ],
             [
              0.8888888888888888,
              "#fdca26"
             ],
             [
              1,
              "#f0f921"
             ]
            ],
            "type": "histogram2d"
           }
          ],
          "histogram2dcontour": [
           {
            "colorbar": {
             "outlinewidth": 0,
             "ticks": ""
            },
            "colorscale": [
             [
              0,
              "#0d0887"
             ],
             [
              0.1111111111111111,
              "#46039f"
             ],
             [
              0.2222222222222222,
              "#7201a8"
             ],
             [
              0.3333333333333333,
              "#9c179e"
             ],
             [
              0.4444444444444444,
              "#bd3786"
             ],
             [
              0.5555555555555556,
              "#d8576b"
             ],
             [
              0.6666666666666666,
              "#ed7953"
             ],
             [
              0.7777777777777778,
              "#fb9f3a"
             ],
             [
              0.8888888888888888,
              "#fdca26"
             ],
             [
              1,
              "#f0f921"
             ]
            ],
            "type": "histogram2dcontour"
           }
          ],
          "mesh3d": [
           {
            "colorbar": {
             "outlinewidth": 0,
             "ticks": ""
            },
            "type": "mesh3d"
           }
          ],
          "parcoords": [
           {
            "line": {
             "colorbar": {
              "outlinewidth": 0,
              "ticks": ""
             }
            },
            "type": "parcoords"
           }
          ],
          "pie": [
           {
            "automargin": true,
            "type": "pie"
           }
          ],
          "scatter": [
           {
            "fillpattern": {
             "fillmode": "overlay",
             "size": 10,
             "solidity": 0.2
            },
            "type": "scatter"
           }
          ],
          "scatter3d": [
           {
            "line": {
             "colorbar": {
              "outlinewidth": 0,
              "ticks": ""
             }
            },
            "marker": {
             "colorbar": {
              "outlinewidth": 0,
              "ticks": ""
             }
            },
            "type": "scatter3d"
           }
          ],
          "scattercarpet": [
           {
            "marker": {
             "colorbar": {
              "outlinewidth": 0,
              "ticks": ""
             }
            },
            "type": "scattercarpet"
           }
          ],
          "scattergeo": [
           {
            "marker": {
             "colorbar": {
              "outlinewidth": 0,
              "ticks": ""
             }
            },
            "type": "scattergeo"
           }
          ],
          "scattergl": [
           {
            "marker": {
             "colorbar": {
              "outlinewidth": 0,
              "ticks": ""
             }
            },
            "type": "scattergl"
           }
          ],
          "scattermapbox": [
           {
            "marker": {
             "colorbar": {
              "outlinewidth": 0,
              "ticks": ""
             }
            },
            "type": "scattermapbox"
           }
          ],
          "scatterpolar": [
           {
            "marker": {
             "colorbar": {
              "outlinewidth": 0,
              "ticks": ""
             }
            },
            "type": "scatterpolar"
           }
          ],
          "scatterpolargl": [
           {
            "marker": {
             "colorbar": {
              "outlinewidth": 0,
              "ticks": ""
             }
            },
            "type": "scatterpolargl"
           }
          ],
          "scatterternary": [
           {
            "marker": {
             "colorbar": {
              "outlinewidth": 0,
              "ticks": ""
             }
            },
            "type": "scatterternary"
           }
          ],
          "surface": [
           {
            "colorbar": {
             "outlinewidth": 0,
             "ticks": ""
            },
            "colorscale": [
             [
              0,
              "#0d0887"
             ],
             [
              0.1111111111111111,
              "#46039f"
             ],
             [
              0.2222222222222222,
              "#7201a8"
             ],
             [
              0.3333333333333333,
              "#9c179e"
             ],
             [
              0.4444444444444444,
              "#bd3786"
             ],
             [
              0.5555555555555556,
              "#d8576b"
             ],
             [
              0.6666666666666666,
              "#ed7953"
             ],
             [
              0.7777777777777778,
              "#fb9f3a"
             ],
             [
              0.8888888888888888,
              "#fdca26"
             ],
             [
              1,
              "#f0f921"
             ]
            ],
            "type": "surface"
           }
          ],
          "table": [
           {
            "cells": {
             "fill": {
              "color": "#EBF0F8"
             },
             "line": {
              "color": "white"
             }
            },
            "header": {
             "fill": {
              "color": "#C8D4E3"
             },
             "line": {
              "color": "white"
             }
            },
            "type": "table"
           }
          ]
         },
         "layout": {
          "annotationdefaults": {
           "arrowcolor": "#2a3f5f",
           "arrowhead": 0,
           "arrowwidth": 1
          },
          "autotypenumbers": "strict",
          "coloraxis": {
           "colorbar": {
            "outlinewidth": 0,
            "ticks": ""
           }
          },
          "colorscale": {
           "diverging": [
            [
             0,
             "#8e0152"
            ],
            [
             0.1,
             "#c51b7d"
            ],
            [
             0.2,
             "#de77ae"
            ],
            [
             0.3,
             "#f1b6da"
            ],
            [
             0.4,
             "#fde0ef"
            ],
            [
             0.5,
             "#f7f7f7"
            ],
            [
             0.6,
             "#e6f5d0"
            ],
            [
             0.7,
             "#b8e186"
            ],
            [
             0.8,
             "#7fbc41"
            ],
            [
             0.9,
             "#4d9221"
            ],
            [
             1,
             "#276419"
            ]
           ],
           "sequential": [
            [
             0,
             "#0d0887"
            ],
            [
             0.1111111111111111,
             "#46039f"
            ],
            [
             0.2222222222222222,
             "#7201a8"
            ],
            [
             0.3333333333333333,
             "#9c179e"
            ],
            [
             0.4444444444444444,
             "#bd3786"
            ],
            [
             0.5555555555555556,
             "#d8576b"
            ],
            [
             0.6666666666666666,
             "#ed7953"
            ],
            [
             0.7777777777777778,
             "#fb9f3a"
            ],
            [
             0.8888888888888888,
             "#fdca26"
            ],
            [
             1,
             "#f0f921"
            ]
           ],
           "sequentialminus": [
            [
             0,
             "#0d0887"
            ],
            [
             0.1111111111111111,
             "#46039f"
            ],
            [
             0.2222222222222222,
             "#7201a8"
            ],
            [
             0.3333333333333333,
             "#9c179e"
            ],
            [
             0.4444444444444444,
             "#bd3786"
            ],
            [
             0.5555555555555556,
             "#d8576b"
            ],
            [
             0.6666666666666666,
             "#ed7953"
            ],
            [
             0.7777777777777778,
             "#fb9f3a"
            ],
            [
             0.8888888888888888,
             "#fdca26"
            ],
            [
             1,
             "#f0f921"
            ]
           ]
          },
          "colorway": [
           "#636efa",
           "#EF553B",
           "#00cc96",
           "#ab63fa",
           "#FFA15A",
           "#19d3f3",
           "#FF6692",
           "#B6E880",
           "#FF97FF",
           "#FECB52"
          ],
          "font": {
           "color": "#2a3f5f"
          },
          "geo": {
           "bgcolor": "white",
           "lakecolor": "white",
           "landcolor": "#E5ECF6",
           "showlakes": true,
           "showland": true,
           "subunitcolor": "white"
          },
          "hoverlabel": {
           "align": "left"
          },
          "hovermode": "closest",
          "mapbox": {
           "style": "light"
          },
          "paper_bgcolor": "white",
          "plot_bgcolor": "#E5ECF6",
          "polar": {
           "angularaxis": {
            "gridcolor": "white",
            "linecolor": "white",
            "ticks": ""
           },
           "bgcolor": "#E5ECF6",
           "radialaxis": {
            "gridcolor": "white",
            "linecolor": "white",
            "ticks": ""
           }
          },
          "scene": {
           "xaxis": {
            "backgroundcolor": "#E5ECF6",
            "gridcolor": "white",
            "gridwidth": 2,
            "linecolor": "white",
            "showbackground": true,
            "ticks": "",
            "zerolinecolor": "white"
           },
           "yaxis": {
            "backgroundcolor": "#E5ECF6",
            "gridcolor": "white",
            "gridwidth": 2,
            "linecolor": "white",
            "showbackground": true,
            "ticks": "",
            "zerolinecolor": "white"
           },
           "zaxis": {
            "backgroundcolor": "#E5ECF6",
            "gridcolor": "white",
            "gridwidth": 2,
            "linecolor": "white",
            "showbackground": true,
            "ticks": "",
            "zerolinecolor": "white"
           }
          },
          "shapedefaults": {
           "line": {
            "color": "#2a3f5f"
           }
          },
          "ternary": {
           "aaxis": {
            "gridcolor": "white",
            "linecolor": "white",
            "ticks": ""
           },
           "baxis": {
            "gridcolor": "white",
            "linecolor": "white",
            "ticks": ""
           },
           "bgcolor": "#E5ECF6",
           "caxis": {
            "gridcolor": "white",
            "linecolor": "white",
            "ticks": ""
           }
          },
          "title": {
           "x": 0.05
          },
          "xaxis": {
           "automargin": true,
           "gridcolor": "white",
           "linecolor": "white",
           "ticks": "",
           "title": {
            "standoff": 15
           },
           "zerolinecolor": "white",
           "zerolinewidth": 2
          },
          "yaxis": {
           "automargin": true,
           "gridcolor": "white",
           "linecolor": "white",
           "ticks": "",
           "title": {
            "standoff": 15
           },
           "zerolinecolor": "white",
           "zerolinewidth": 2
          }
         }
        },
        "title": {
         "text": "Test Diagram"
        }
       }
      },
      "text/html": [
       "<div>                            <div id=\"e321be80-e698-483d-9d0f-e9422bde8e79\" class=\"plotly-graph-div\" style=\"height:525px; width:100%;\"></div>            <script type=\"text/javascript\">                require([\"plotly\"], function(Plotly) {                    window.PLOTLYENV=window.PLOTLYENV || {};                                    if (document.getElementById(\"e321be80-e698-483d-9d0f-e9422bde8e79\")) {                    Plotly.newPlot(                        \"e321be80-e698-483d-9d0f-e9422bde8e79\",                        [{\"arrangement\":\"freeform\",\"domain\":{\"x\":[0,1],\"y\":[0,1]},\"link\":{\"arrowlen\":10,\"color\":[\"rgba(130,139,152, 0.3)\",\"rgba(187,175,164, 0.3)\",\"rgba(173,110,81, 0.3)\",\"rgba(0,111,137, 0.3)\",\"rgba(0,111,137, 0.3)\",\"rgba(134,144,178, 0.3)\",\"rgba(187,175,164, 0.3)\",\"rgba(173,110,81, 0.3)\"],\"hoverlabel\":{\"align\":\"left\",\"bgcolor\":\"lightgreen\",\"bordercolor\":\"black\"},\"label\":[],\"source\":[0,1,2,3,3,5,6,7],\"target\":[1,2,3,4,5,6,7,8],\"value\":[10,10,10,4,6,3,3,3]},\"node\":{\"color\":[\"rgba(98,104,113, 1)\",\"rgba(174,161,137, 1)\",\"rgba(154,98,76, 1)\",\"rgba(11,102,127, 1)\",\"rgba(205,94,70, 1)\",\"rgba(122,119,153, 1)\",\"rgba(174,161,137, 1)\",\"rgba(154,98,76, 1)\",\"rgba(205,94,70, 1)\"],\"hoverlabel\":{\"align\":\"left\",\"bgcolor\":\"lightgreen\",\"bordercolor\":\"white\"},\"label\":[\"\\u0437\\u0430\\u0447\\u0438\\u0441\\u043b\\u0435\\u043d \\u043d\\u0430 \\u043e\\u0431\\u0443\\u0447\\u0435\\u043d\\u0438\\u0435\",\"\\u0437\\u0430\\u043a\\u043e\\u043d\\u0447\\u0438\\u043b \\u0438\\u0437\\u0443\\u0447\\u0430\\u0442\\u044c \\u0442\\u0435\\u043e\\u0440\\u0438\\u044e\",\"\\u0437\\u0430\\u043a\\u043e\\u043d\\u0447\\u0438\\u043b \\u043f\\u0440\\u0430\\u043a\\u0442\\u0438\\u043a\\u0443\",\"\\u0441\\u0434\\u0430\\u043b \\u043f\\u0440\\u043e\\u0431\\u043d\\u044b\\u0439 \\u044d\\u043a\\u0437\\u0430\\u043c\\u0435\\u043d\",\"\\u0441\\u0434\\u0430\\u043b \\u0438\\u0442\\u043e\\u0433\\u043e\\u0432\\u044b\\u0439 \\u044d\\u043a\\u0437\\u0430\\u043c\\u0435\\u043d\",\"\\u0437\\u0430\\u0432\\u0430\\u043b\\u0438\\u043b \\u0438\\u0442\\u043e\\u0433\\u043e\\u0432\\u044b\\u0439 \\u044d\\u043a\\u0437\\u0430\\u043c\\u0435\\u043d\",\"\\u0437\\u0430\\u043a\\u043e\\u043d\\u0447\\u0438\\u043b \\u0438\\u0437\\u0443\\u0447\\u0430\\u0442\\u044c \\u0442\\u0435\\u043e\\u0440\\u0438\\u044e\",\"\\u0437\\u0430\\u043a\\u043e\\u043d\\u0447\\u0438\\u043b \\u043f\\u0440\\u0430\\u043a\\u0442\\u0438\\u043a\\u0443\",\"\\u0441\\u0434\\u0430\\u043b \\u0438\\u0442\\u043e\\u0433\\u043e\\u0432\\u044b\\u0439 \\u044d\\u043a\\u0437\\u0430\\u043c\\u0435\\u043d\"],\"line\":{\"color\":\"black\",\"width\":0.5},\"pad\":50,\"thickness\":20},\"orientation\":\"h\",\"textfont\":{\"color\":\"black\"},\"valueformat\":\"int\",\"valuesuffix\":\"\\u0447\\u0435\\u043b\",\"type\":\"sankey\"}],                        {\"template\":{\"data\":{\"histogram2dcontour\":[{\"type\":\"histogram2dcontour\",\"colorbar\":{\"outlinewidth\":0,\"ticks\":\"\"},\"colorscale\":[[0.0,\"#0d0887\"],[0.1111111111111111,\"#46039f\"],[0.2222222222222222,\"#7201a8\"],[0.3333333333333333,\"#9c179e\"],[0.4444444444444444,\"#bd3786\"],[0.5555555555555556,\"#d8576b\"],[0.6666666666666666,\"#ed7953\"],[0.7777777777777778,\"#fb9f3a\"],[0.8888888888888888,\"#fdca26\"],[1.0,\"#f0f921\"]]}],\"choropleth\":[{\"type\":\"choropleth\",\"colorbar\":{\"outlinewidth\":0,\"ticks\":\"\"}}],\"histogram2d\":[{\"type\":\"histogram2d\",\"colorbar\":{\"outlinewidth\":0,\"ticks\":\"\"},\"colorscale\":[[0.0,\"#0d0887\"],[0.1111111111111111,\"#46039f\"],[0.2222222222222222,\"#7201a8\"],[0.3333333333333333,\"#9c179e\"],[0.4444444444444444,\"#bd3786\"],[0.5555555555555556,\"#d8576b\"],[0.6666666666666666,\"#ed7953\"],[0.7777777777777778,\"#fb9f3a\"],[0.8888888888888888,\"#fdca26\"],[1.0,\"#f0f921\"]]}],\"heatmap\":[{\"type\":\"heatmap\",\"colorbar\":{\"outlinewidth\":0,\"ticks\":\"\"},\"colorscale\":[[0.0,\"#0d0887\"],[0.1111111111111111,\"#46039f\"],[0.2222222222222222,\"#7201a8\"],[0.3333333333333333,\"#9c179e\"],[0.4444444444444444,\"#bd3786\"],[0.5555555555555556,\"#d8576b\"],[0.6666666666666666,\"#ed7953\"],[0.7777777777777778,\"#fb9f3a\"],[0.8888888888888888,\"#fdca26\"],[1.0,\"#f0f921\"]]}],\"heatmapgl\":[{\"type\":\"heatmapgl\",\"colorbar\":{\"outlinewidth\":0,\"ticks\":\"\"},\"colorscale\":[[0.0,\"#0d0887\"],[0.1111111111111111,\"#46039f\"],[0.2222222222222222,\"#7201a8\"],[0.3333333333333333,\"#9c179e\"],[0.4444444444444444,\"#bd3786\"],[0.5555555555555556,\"#d8576b\"],[0.6666666666666666,\"#ed7953\"],[0.7777777777777778,\"#fb9f3a\"],[0.8888888888888888,\"#fdca26\"],[1.0,\"#f0f921\"]]}],\"contourcarpet\":[{\"type\":\"contourcarpet\",\"colorbar\":{\"outlinewidth\":0,\"ticks\":\"\"}}],\"contour\":[{\"type\":\"contour\",\"colorbar\":{\"outlinewidth\":0,\"ticks\":\"\"},\"colorscale\":[[0.0,\"#0d0887\"],[0.1111111111111111,\"#46039f\"],[0.2222222222222222,\"#7201a8\"],[0.3333333333333333,\"#9c179e\"],[0.4444444444444444,\"#bd3786\"],[0.5555555555555556,\"#d8576b\"],[0.6666666666666666,\"#ed7953\"],[0.7777777777777778,\"#fb9f3a\"],[0.8888888888888888,\"#fdca26\"],[1.0,\"#f0f921\"]]}],\"surface\":[{\"type\":\"surface\",\"colorbar\":{\"outlinewidth\":0,\"ticks\":\"\"},\"colorscale\":[[0.0,\"#0d0887\"],[0.1111111111111111,\"#46039f\"],[0.2222222222222222,\"#7201a8\"],[0.3333333333333333,\"#9c179e\"],[0.4444444444444444,\"#bd3786\"],[0.5555555555555556,\"#d8576b\"],[0.6666666666666666,\"#ed7953\"],[0.7777777777777778,\"#fb9f3a\"],[0.8888888888888888,\"#fdca26\"],[1.0,\"#f0f921\"]]}],\"mesh3d\":[{\"type\":\"mesh3d\",\"colorbar\":{\"outlinewidth\":0,\"ticks\":\"\"}}],\"scatter\":[{\"fillpattern\":{\"fillmode\":\"overlay\",\"size\":10,\"solidity\":0.2},\"type\":\"scatter\"}],\"parcoords\":[{\"type\":\"parcoords\",\"line\":{\"colorbar\":{\"outlinewidth\":0,\"ticks\":\"\"}}}],\"scatterpolargl\":[{\"type\":\"scatterpolargl\",\"marker\":{\"colorbar\":{\"outlinewidth\":0,\"ticks\":\"\"}}}],\"bar\":[{\"error_x\":{\"color\":\"#2a3f5f\"},\"error_y\":{\"color\":\"#2a3f5f\"},\"marker\":{\"line\":{\"color\":\"#E5ECF6\",\"width\":0.5},\"pattern\":{\"fillmode\":\"overlay\",\"size\":10,\"solidity\":0.2}},\"type\":\"bar\"}],\"scattergeo\":[{\"type\":\"scattergeo\",\"marker\":{\"colorbar\":{\"outlinewidth\":0,\"ticks\":\"\"}}}],\"scatterpolar\":[{\"type\":\"scatterpolar\",\"marker\":{\"colorbar\":{\"outlinewidth\":0,\"ticks\":\"\"}}}],\"histogram\":[{\"marker\":{\"pattern\":{\"fillmode\":\"overlay\",\"size\":10,\"solidity\":0.2}},\"type\":\"histogram\"}],\"scattergl\":[{\"type\":\"scattergl\",\"marker\":{\"colorbar\":{\"outlinewidth\":0,\"ticks\":\"\"}}}],\"scatter3d\":[{\"type\":\"scatter3d\",\"line\":{\"colorbar\":{\"outlinewidth\":0,\"ticks\":\"\"}},\"marker\":{\"colorbar\":{\"outlinewidth\":0,\"ticks\":\"\"}}}],\"scattermapbox\":[{\"type\":\"scattermapbox\",\"marker\":{\"colorbar\":{\"outlinewidth\":0,\"ticks\":\"\"}}}],\"scatterternary\":[{\"type\":\"scatterternary\",\"marker\":{\"colorbar\":{\"outlinewidth\":0,\"ticks\":\"\"}}}],\"scattercarpet\":[{\"type\":\"scattercarpet\",\"marker\":{\"colorbar\":{\"outlinewidth\":0,\"ticks\":\"\"}}}],\"carpet\":[{\"aaxis\":{\"endlinecolor\":\"#2a3f5f\",\"gridcolor\":\"white\",\"linecolor\":\"white\",\"minorgridcolor\":\"white\",\"startlinecolor\":\"#2a3f5f\"},\"baxis\":{\"endlinecolor\":\"#2a3f5f\",\"gridcolor\":\"white\",\"linecolor\":\"white\",\"minorgridcolor\":\"white\",\"startlinecolor\":\"#2a3f5f\"},\"type\":\"carpet\"}],\"table\":[{\"cells\":{\"fill\":{\"color\":\"#EBF0F8\"},\"line\":{\"color\":\"white\"}},\"header\":{\"fill\":{\"color\":\"#C8D4E3\"},\"line\":{\"color\":\"white\"}},\"type\":\"table\"}],\"barpolar\":[{\"marker\":{\"line\":{\"color\":\"#E5ECF6\",\"width\":0.5},\"pattern\":{\"fillmode\":\"overlay\",\"size\":10,\"solidity\":0.2}},\"type\":\"barpolar\"}],\"pie\":[{\"automargin\":true,\"type\":\"pie\"}]},\"layout\":{\"autotypenumbers\":\"strict\",\"colorway\":[\"#636efa\",\"#EF553B\",\"#00cc96\",\"#ab63fa\",\"#FFA15A\",\"#19d3f3\",\"#FF6692\",\"#B6E880\",\"#FF97FF\",\"#FECB52\"],\"font\":{\"color\":\"#2a3f5f\"},\"hovermode\":\"closest\",\"hoverlabel\":{\"align\":\"left\"},\"paper_bgcolor\":\"white\",\"plot_bgcolor\":\"#E5ECF6\",\"polar\":{\"bgcolor\":\"#E5ECF6\",\"angularaxis\":{\"gridcolor\":\"white\",\"linecolor\":\"white\",\"ticks\":\"\"},\"radialaxis\":{\"gridcolor\":\"white\",\"linecolor\":\"white\",\"ticks\":\"\"}},\"ternary\":{\"bgcolor\":\"#E5ECF6\",\"aaxis\":{\"gridcolor\":\"white\",\"linecolor\":\"white\",\"ticks\":\"\"},\"baxis\":{\"gridcolor\":\"white\",\"linecolor\":\"white\",\"ticks\":\"\"},\"caxis\":{\"gridcolor\":\"white\",\"linecolor\":\"white\",\"ticks\":\"\"}},\"coloraxis\":{\"colorbar\":{\"outlinewidth\":0,\"ticks\":\"\"}},\"colorscale\":{\"sequential\":[[0.0,\"#0d0887\"],[0.1111111111111111,\"#46039f\"],[0.2222222222222222,\"#7201a8\"],[0.3333333333333333,\"#9c179e\"],[0.4444444444444444,\"#bd3786\"],[0.5555555555555556,\"#d8576b\"],[0.6666666666666666,\"#ed7953\"],[0.7777777777777778,\"#fb9f3a\"],[0.8888888888888888,\"#fdca26\"],[1.0,\"#f0f921\"]],\"sequentialminus\":[[0.0,\"#0d0887\"],[0.1111111111111111,\"#46039f\"],[0.2222222222222222,\"#7201a8\"],[0.3333333333333333,\"#9c179e\"],[0.4444444444444444,\"#bd3786\"],[0.5555555555555556,\"#d8576b\"],[0.6666666666666666,\"#ed7953\"],[0.7777777777777778,\"#fb9f3a\"],[0.8888888888888888,\"#fdca26\"],[1.0,\"#f0f921\"]],\"diverging\":[[0,\"#8e0152\"],[0.1,\"#c51b7d\"],[0.2,\"#de77ae\"],[0.3,\"#f1b6da\"],[0.4,\"#fde0ef\"],[0.5,\"#f7f7f7\"],[0.6,\"#e6f5d0\"],[0.7,\"#b8e186\"],[0.8,\"#7fbc41\"],[0.9,\"#4d9221\"],[1,\"#276419\"]]},\"xaxis\":{\"gridcolor\":\"white\",\"linecolor\":\"white\",\"ticks\":\"\",\"title\":{\"standoff\":15},\"zerolinecolor\":\"white\",\"automargin\":true,\"zerolinewidth\":2},\"yaxis\":{\"gridcolor\":\"white\",\"linecolor\":\"white\",\"ticks\":\"\",\"title\":{\"standoff\":15},\"zerolinecolor\":\"white\",\"automargin\":true,\"zerolinewidth\":2},\"scene\":{\"xaxis\":{\"backgroundcolor\":\"#E5ECF6\",\"gridcolor\":\"white\",\"linecolor\":\"white\",\"showbackground\":true,\"ticks\":\"\",\"zerolinecolor\":\"white\",\"gridwidth\":2},\"yaxis\":{\"backgroundcolor\":\"#E5ECF6\",\"gridcolor\":\"white\",\"linecolor\":\"white\",\"showbackground\":true,\"ticks\":\"\",\"zerolinecolor\":\"white\",\"gridwidth\":2},\"zaxis\":{\"backgroundcolor\":\"#E5ECF6\",\"gridcolor\":\"white\",\"linecolor\":\"white\",\"showbackground\":true,\"ticks\":\"\",\"zerolinecolor\":\"white\",\"gridwidth\":2}},\"shapedefaults\":{\"line\":{\"color\":\"#2a3f5f\"}},\"annotationdefaults\":{\"arrowcolor\":\"#2a3f5f\",\"arrowhead\":0,\"arrowwidth\":1},\"geo\":{\"bgcolor\":\"white\",\"landcolor\":\"#E5ECF6\",\"subunitcolor\":\"white\",\"showland\":true,\"showlakes\":true,\"lakecolor\":\"white\"},\"title\":{\"x\":0.05},\"mapbox\":{\"style\":\"light\"}}},\"title\":{\"text\":\"Test Diagram\"},\"font\":{\"size\":10}},                        {\"responsive\": true}                    ).then(function(){\n",
       "                            \n",
       "var gd = document.getElementById('e321be80-e698-483d-9d0f-e9422bde8e79');\n",
       "var x = new MutationObserver(function (mutations, observer) {{\n",
       "        var display = window.getComputedStyle(gd).display;\n",
       "        if (!display || display === 'none') {{\n",
       "            console.log([gd, 'removed!']);\n",
       "            Plotly.purge(gd);\n",
       "            observer.disconnect();\n",
       "        }}\n",
       "}});\n",
       "\n",
       "// Listen for the removal of the full notebook cells\n",
       "var notebookContainer = gd.closest('#notebook-container');\n",
       "if (notebookContainer) {{\n",
       "    x.observe(notebookContainer, {childList: true});\n",
       "}}\n",
       "\n",
       "// Listen for the clearing of the current output cell\n",
       "var outputEl = gd.closest('.output');\n",
       "if (outputEl) {{\n",
       "    x.observe(outputEl, {childList: true});\n",
       "}}\n",
       "\n",
       "                        })                };                });            </script>        </div>"
      ]
     },
     "metadata": {},
     "output_type": "display_data"
    }
   ],
   "source": [
    "duel_colors_node, duel_colors_link = get_colors(fp='/home/ivan/projects/visual_experiments/duel.txt',\n",
    "                                      line_start=3,\n",
    "                                      a_node=1,\n",
    "                                      a_link=0.3,\n",
    "                                      link_color_shift=1,\n",
    "                                      color_step=8,\n",
    "                                      cut=0)\n",
    "\n",
    "\n",
    "dewdrop_colors_node, dewdrop_colors_link = get_colors(fp='/home/ivan/projects/visual_experiments/dewdrop-dynasty-40.txt',\n",
    "                                      line_start=0,\n",
    "                                      a_node=0.5,\n",
    "                                      a_link=0.3,\n",
    "                                      link_color_shift=1,\n",
    "                                      color_step=2,\n",
    "                                      cut=6)\n",
    "\n",
    "\n",
    "raw_data = pd.read_excel('/home/ivan/projects/visual_experiments/data_sankey.xlsx')\n",
    "raw_data = raw_data.to_json(indent=4, orient='records', force_ascii=False)\n",
    "raw_data = json.loads(raw_data)\n",
    "\n",
    "\n",
    "cond_data = pd.read_excel('/home/ivan/projects/visual_experiments/data_sankey_cond.xlsx', )\n",
    "cond_data = cond_data.to_json(indent=4, orient='records', force_ascii=False)\n",
    "cond_data = json.loads(cond_data)\n",
    "\n",
    "\n",
    "prepared_data = json.loads(prepare_data(raw_data, cond_data))\n",
    "\n",
    "\n",
    "sankey_data = construct_sankey_data(prepared_data=prepared_data, \n",
    "                                    node_color=duel_colors_node,\n",
    "                                    node_pad=50,\n",
    "                                    node_thickness=20,\n",
    "                                    node_line_color='black',\n",
    "                                    node_line_width=0.5,\n",
    "                                    link_color=duel_colors_link, \n",
    "                                    title='Test Diagram', \n",
    "                                    title_width=10, \n",
    "                                    title_height=50, \n",
    "                                    title_font_size=10,\n",
    "                                    orientation='h',\n",
    "                                    valueformat='int',\n",
    "                                    valuesuffix='чел')\n",
    "\n",
    "\n",
    "sankey_fig(sankey_data).show()\n"
   ]
  },
  {
   "cell_type": "code",
   "execution_count": null,
   "metadata": {},
   "outputs": [],
   "source": []
  }
 ],
 "metadata": {
  "kernelspec": {
   "display_name": "venv",
   "language": "python",
   "name": "python3"
  },
  "language_info": {
   "codemirror_mode": {
    "name": "ipython",
    "version": 3
   },
   "file_extension": ".py",
   "mimetype": "text/x-python",
   "name": "python",
   "nbconvert_exporter": "python",
   "pygments_lexer": "ipython3",
   "version": "3.10.12"
  },
  "orig_nbformat": 4
 },
 "nbformat": 4,
 "nbformat_minor": 2
}
